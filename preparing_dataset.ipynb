{
  "cells": [
    {
      "cell_type": "code",
      "execution_count": null,
      "metadata": {
        "colab": {
          "background_save": true,
          "base_uri": "https://localhost:8080/"
        },
        "id": "5mk3qjph_Xfy",
        "outputId": "82fa242a-b342-47c5-9623-3fa61e6244d2"
      },
      "outputs": [
        {
          "name": "stdout",
          "output_type": "stream",
          "text": [
            "--2024-12-13 21:56:22--  https://partage.imt.fr/index.php/s/jJwxpEWyecC8CRW/download\n",
            "Resolving partage.imt.fr (partage.imt.fr)... 193.48.235.12\n",
            "Connecting to partage.imt.fr (partage.imt.fr)|193.48.235.12|:443... connected.\n",
            "HTTP request sent, awaiting response... 200 OK\n",
            "Length: unspecified [application/zip]\n",
            "Saving to: ‘dataset.zip’\n",
            "\n",
            "dataset.zip             [     <=>            ]   5.04G   613KB/s    in 2h 33m  \n",
            "\n",
            "2024-12-14 00:30:21 (572 KB/s) - ‘dataset.zip’ saved [5414284018]\n",
            "\n"
          ]
        }
      ],
      "source": [
        "!wget -O dataset.zip \"https://partage.imt.fr/index.php/s/jJwxpEWyecC8CRW/download\""
      ]
    },
    {
      "cell_type": "code",
      "execution_count": null,
      "metadata": {
        "id": "qQBfyVSqBcN0"
      },
      "outputs": [],
      "source": [
        "!unzip dataset.zip -d dataset"
      ]
    },
    {
      "cell_type": "code",
      "execution_count": null,
      "metadata": {
        "id": "rz5XitkOTzAX"
      },
      "outputs": [],
      "source": [
        "import numpy as np\n",
        "from scipy.io import wavfile\n",
        "from matplotlib.mlab import specgram\n",
        "import os\n",
        "\n",
        "audio_folder = '/content/dataset'\n",
        "output_folder = '/content/drive/MyDrive/Projet Commande Entreprise/Spectrograms_csv'\n",
        "\n",
        "os.makedirs(output_folder, exist_ok=True)\n",
        "\n",
        "nfft = 2048\n",
        "noverlap = nfft // 2\n",
        "step = 2099000\n",
        "frequency_shift = -7e6\n",
        "c = 0\n",
        "\n",
        "# Open CSV file in append mode\n",
        "output_csv = os.path.join(output_folder, \"all_spectrograms.csv\")\n",
        "with open(output_csv, 'ab') as f:\n",
        "    for filename in os.listdir(audio_folder):\n",
        "        if filename.endswith('.wav'):\n",
        "            file_path = os.path.join(audio_folder, filename)\n",
        "            fs, data = wavfile.read(file_path)\n",
        "\n",
        "            data_IQ = data[:, 0] + 1j * data[:, 1]\n",
        "            t = np.arange(step) / fs\n",
        "\n",
        "            segments = [data_IQ[i:i + step] for i in range(0, len(data_IQ), step)]\n",
        "\n",
        "            for i, segment in enumerate(segments):\n",
        "                Pxx, freqs, bins = specgram(segment, NFFT=nfft, Fs=fs, noverlap=noverlap)\n",
        "                if Pxx.shape == (2048, 2048):\n",
        "                    # Save original spectrogram\n",
        "                    np.savetxt(f, Pxx.flatten()[None], delimiter=\",\")\n",
        "                    c += 1\n",
        "\n",
        "                    # Apply frequency shift\n",
        "                    shifted_segment = segment * np.exp(1j * 2 * np.pi * frequency_shift * t[:len(segment)])\n",
        "                    shifted_Pxx, shifted_freqs, _ = specgram(shifted_segment, NFFT=nfft, Fs=fs, noverlap=noverlap)\n",
        "\n",
        "                    # Save shifted spectrogram\n",
        "                    np.savetxt(f, shifted_Pxx.flatten()[None], delimiter=\",\")\n",
        "                    c += 1\n",
        "                else:\n",
        "                    print(f\"Skipping segment {i} of file {filename} due to unexpected Pxx shape: {Pxx.shape}\")\n",
        "\n",
        "print(f\"Processed {c} spectrograms.\")\n",
        "print(f\"All spectrogram matrices saved in {output_csv}\")\n"
      ]
    },
    {
      "cell_type": "code",
      "execution_count": null,
      "metadata": {
        "id": "gHjDh_bGCoAQ"
      },
      "outputs": [],
      "source": [
        "import shutil\n",
        "shutil.copytree('/content/Spectrograms_csv', '/content/drive/My Drive/Spectrograms_csv')"
      ]
    }
  ],
  "metadata": {
    "colab": {
      "provenance": []
    },
    "kernelspec": {
      "display_name": "Python 3",
      "name": "python3"
    },
    "language_info": {
      "name": "python"
    }
  },
  "nbformat": 4,
  "nbformat_minor": 0
}